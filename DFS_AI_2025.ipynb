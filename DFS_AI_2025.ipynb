{
 "cells": [
  {
   "cell_type": "markdown",
   "id": "8db52861",
   "metadata": {},
   "source": [
    "#### Depth First Search on the given Graph\n",
    "![A visual representation of the DFS graph](images/dfs_graph.png)\n",
    "##### Define the Graph for Depth First Search"
   ]
  },
  {
   "cell_type": "code",
   "execution_count": 1,
   "id": "9779df09",
   "metadata": {},
   "outputs": [],
   "source": [
    "graph = {\n",
    "    'u': ['v', 'x'],\n",
    "    'v': ['y'],\n",
    "    'w': ['y', 'z'],\n",
    "    'x': ['v'],\n",
    "    'y': ['x'],\n",
    "    'z': ['z']  # self-loop\n",
    "}\n",
    "     "
   ]
  },
  {
   "cell_type": "code",
   "execution_count": 2,
   "id": "257c58bc",
   "metadata": {},
   "outputs": [],
   "source": [
    "# Global variables for DFS\n",
    "time = 0\n",
    "color = {}\n",
    "parent = {}\n",
    "discovery = {}\n",
    "finish = {}"
   ]
  },
  {
   "cell_type": "markdown",
   "id": "461c28fe",
   "metadata": {},
   "source": [
    "#### Code for Initilization"
   ]
  },
  {
   "cell_type": "code",
   "execution_count": 3,
   "id": "c706e06a",
   "metadata": {},
   "outputs": [
    {
     "name": "stdout",
     "output_type": "stream",
     "text": [
      "{'u': 'WHITE', 'v': 'WHITE', 'w': 'WHITE', 'x': 'WHITE', 'y': 'WHITE', 'z': 'WHITE'}\n",
      "{'u': None, 'v': None, 'w': None, 'x': None, 'y': None, 'z': None}\n"
     ]
    }
   ],
   "source": [
    "for u in graph:\n",
    "        color[u] = \"WHITE\"   # Unvisited\n",
    "        parent[u] = None\n",
    "\n",
    "time = 0\n",
    "print(color)\n",
    "print(parent)"
   ]
  },
  {
   "cell_type": "markdown",
   "id": "fa6d6b77",
   "metadata": {},
   "source": [
    "#### Runs Depth-First Search on graph G.\n",
    "##### Initializes all vertices, then calls DFS-VISIT on unvisited ones."
   ]
  },
  {
   "cell_type": "code",
   "execution_count": 4,
   "id": "4b87a081",
   "metadata": {},
   "outputs": [],
   "source": [
    "def DFS(G):\n",
    "    \"\"\"\n",
    "    Runs Depth-First Search on graph G.\n",
    "    Initializes all vertices, then calls DFS-VISIT on unvisited ones.\n",
    "    \"\"\"\n",
    "    global time, color, parent, discovery, finish\n",
    "\n",
    "    # Initialize all vertices\n",
    "    for u in G:\n",
    "        color[u] = \"WHITE\"   # Unvisited\n",
    "        parent[u] = None\n",
    "\n",
    "    time = 0\n",
    "\n",
    "    # Perform DFS on each unvisited node\n",
    "    for u in G:\n",
    "        if color[u] == \"WHITE\":\n",
    "            DFS_VISIT(G, u)"
   ]
  },
  {
   "cell_type": "markdown",
   "id": "325643a9",
   "metadata": {},
   "source": [
    "#### Visits a vertex u in DFS.\n",
    "##### Tracks discovery time, finish time, and parent relationships."
   ]
  },
  {
   "cell_type": "code",
   "execution_count": 5,
   "id": "f7b7b1fa",
   "metadata": {},
   "outputs": [],
   "source": [
    "def DFS_VISIT(G, u):\n",
    "    \"\"\"\n",
    "    Visits a vertex u in DFS.\n",
    "    Tracks discovery time, finish time, and parent relationships.\n",
    "    \"\"\"\n",
    "    global time, color, parent, discovery, finish\n",
    "\n",
    "    color[u] = \"GRAY\"      # Node is discovered but not finished\n",
    "    time += 1\n",
    "    discovery[u] = time    # Discovery time\n",
    "\n",
    "    # Explore neighbors\n",
    "    for v in G[u]:\n",
    "        if color[v] == \"WHITE\":\n",
    "            parent[v] = u\n",
    "            DFS_VISIT(G, v)\n",
    "\n",
    "    color[u] = \"BLACK\"     # Finished exploring u\n",
    "    time += 1\n",
    "    finish[u] = time       # Finish time"
   ]
  },
  {
   "cell_type": "markdown",
   "id": "e06969ff",
   "metadata": {},
   "source": [
    "#### Run Depth First Search Algo"
   ]
  },
  {
   "cell_type": "code",
   "execution_count": 6,
   "id": "0106d6ef",
   "metadata": {},
   "outputs": [
    {
     "name": "stdout",
     "output_type": "stream",
     "text": [
      "Discovery Times: {'u': 1, 'v': 2, 'y': 3, 'x': 4, 'w': 9, 'z': 10}\n",
      "Finish Times: {'x': 5, 'y': 6, 'v': 7, 'u': 8, 'z': 11, 'w': 12}\n",
      "Parents: {'u': None, 'v': 'u', 'w': None, 'x': 'y', 'y': 'v', 'z': 'w'}\n"
     ]
    }
   ],
   "source": [
    "# --- Run DFS ---\n",
    "DFS(graph)\n",
    "\n",
    "# --- Print Results ---\n",
    "print(\"Discovery Times:\", discovery)\n",
    "print(\"Finish Times:\", finish)\n",
    "print(\"Parents:\", parent)"
   ]
  },
  {
   "cell_type": "markdown",
   "id": "6b398784",
   "metadata": {},
   "source": [
    "#### Vizualize the Graph"
   ]
  },
  {
   "cell_type": "code",
   "execution_count": 7,
   "id": "5aa016f1",
   "metadata": {},
   "outputs": [
    {
     "name": "stderr",
     "output_type": "stream",
     "text": [
      "C:\\Users\\Win 11\\AppData\\Local\\Temp\\ipykernel_7716\\1371777621.py:32: UserWarning: No artists with labels found to put in legend.  Note that artists whose label start with an underscore are ignored when legend() is called with no argument.\n",
      "  plt.legend(scatterpoints=1)\n"
     ]
    },
    {
     "data": {
      "image/png": "[encoded data removed]",
      "text/plain": [
       "<Figure size 700x600 with 1 Axes>"
      ]
     },
     "metadata": {},
     "output_type": "display_data"
    }
   ],
   "source": [
    "import networkx as nx\n",
    "import matplotlib.pyplot as plt\n",
    "\n",
    "# --- Build networkx graph ---\n",
    "G = nx.DiGraph()\n",
    "for u in graph:\n",
    "    for v in graph[u]:\n",
    "        G.add_edge(u, v)\n",
    "\n",
    "# Positioning\n",
    "pos = nx.spring_layout(G, seed=42)\n",
    "\n",
    "# Separate DFS tree edges\n",
    "tree_edges = [(p, u) for u, p in parent.items() if p is not None]\n",
    "other_edges = [e for e in G.edges() if e not in tree_edges]\n",
    "\n",
    "# --- Draw Graph ---\n",
    "plt.figure(figsize=(7,6))\n",
    "\n",
    "# Draw edges\n",
    "nx.draw_networkx_edges(G, pos, edgelist=tree_edges, edge_color=\"red\", arrows=True, arrowsize=20, width=2, label=\"DFS Tree\")\n",
    "nx.draw_networkx_edges(G, pos, edgelist=other_edges, edge_color=\"gray\", style=\"dashed\", arrows=True, arrowsize=15, label=\"Other Edges\")\n",
    "\n",
    "# Draw nodes\n",
    "nx.draw_networkx_nodes(G, pos, node_color=\"lightblue\", node_size=500, edgecolors=\"black\")\n",
    "\n",
    "# Labels: show d/f times\n",
    "labels = {u: f\"{u}\\n({discovery[u]}/{finish[u]})\" for u in G.nodes()}\n",
    "nx.draw_networkx_labels(G, pos, labels=labels, font_size=10, font_weight=\"bold\")\n",
    "\n",
    "plt.title(\"DFS Traversal with Discovery/Finish Times\", fontsize=14)\n",
    "plt.legend(scatterpoints=1)\n",
    "plt.axis(\"off\")\n",
    "plt.show()"
   ]
  }
 ],
 "metadata": {
  "kernelspec": {
   "display_name": "Python 3",
   "language": "python",
   "name": "python3"
  },
  "language_info": {
   "codemirror_mode": {
    "name": "ipython",
    "version": 3
   },
   "file_extension": ".py",
   "mimetype": "text/x-python",
   "name": "python",
   "nbconvert_exporter": "python",
   "pygments_lexer": "ipython3",
   "version": "3.12.5"
  }
 },
 "nbformat": 4,
 "nbformat_minor": 5
}
